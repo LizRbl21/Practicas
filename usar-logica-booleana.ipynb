{
 "cells": [
  {
   "cell_type": "markdown",
   "metadata": {},
   "source": [
    "# EJERCICIOS CON CONDICIONALES\n",
    "Para este ejercicio, escribirás una lógica condicional que imprima una advertencia si un asteroide se acerca a la Tierra demasiado rápido. La velocidad del asteroide varía dependiendo de lo cerca que esté del sol, y cualquier velocidad superior a 25 kilómetros por segundo (km/s) merece una advertencia.\n",
    "\n",
    "Un asteroide se acerca, y viaja a una velocidad de 49 km/s."
   ]
  },
  {
   "cell_type": "code",
   "execution_count": 60,
   "metadata": {},
   "outputs": [
    {
     "name": "stdout",
     "output_type": "stream",
     "text": [
      "ADVERTENCIA-- El asteroide tiene una velocidad superior al limite de 25km/s\n"
     ]
    }
   ],
   "source": [
    "asteroide=49\n",
    "lim=25\n",
    "if asteroide>lim:\n",
    "    print(\"ADVERTENCIA-- El asteroide tiene una velocidad superior al limite de 25km/s\")\n",
    "else:\n",
    "    print(\"FUERA DE PELIGRO :)\")"
   ]
  },
  {
   "cell_type": "markdown",
   "metadata": {},
   "source": [
    "Si un asteroide entra en la atmósfera de la Tierra a una velocidad mayor o igual a 20 km/s, a veces produce un rayo de luz que se puede ver desde la Tierra. Escribe la lógica condicional que usa declaraciones if, else, y elif para alertar a las personas de todo el mundo que deben buscar un asteroide en el cielo. ¡Hay uno que se dirige a la tierra ahora a una velocidad de 19 km/s!"
   ]
  },
  {
   "cell_type": "code",
   "execution_count": 61,
   "metadata": {},
   "outputs": [
    {
     "name": "stdout",
     "output_type": "stream",
     "text": [
      "VELOCIDAD BAJA-- No se producira rayo de luz\n"
     ]
    }
   ],
   "source": [
    "asteroide2=19\n",
    "lim2=20\n",
    "if asteroide2>=lim2:\n",
    "    print(\"VELOCIDAD ALTA-- Se podra apreciar el rayo de luz\")\n",
    "elif asteroide2<lim2:\n",
    "    print(\"VELOCIDAD BAJA-- No se producira rayo de luz\")\n",
    "else:\n",
    "    print(\"SIN DATOS\")"
   ]
  },
  {
   "cell_type": "markdown",
   "metadata": {},
   "source": [
    "# Uso de operadores and y or\n",
    "Los asteroides de menos de 25 metros en su dimensión más grande probablemente se quemarán a medida que entren en la atmósfera de la Tierra.\n",
    "\n",
    "Si una pieza de un asteroide que es más grande que 25 metros pero más pequeña que 1000 metros golpeara la Tierra, causaría mucho daño.\n",
    "También discutimos en el ejercicio anterior que:\n",
    "\n",
    "La velocidad del asteroide varía en función de lo cerca que esté del sol, y cualquier velocidad superior a 25 kilómetros por segundo (km/s) merece una advertencia.\n",
    "Si un asteroide entra en la atmósfera de la Tierra a una velocidad mayor o igual a 20 km/s, a veces produce un rayo de luz que se puede ver desde la Tierra.\n",
    "Usando toda esta información, escribe un programa que emita la advertencia o información correcta a la gente de la Tierra, según la velocidad y el tamaño de un asteroide."
   ]
  },
  {
   "cell_type": "code",
   "execution_count": 62,
   "metadata": {},
   "outputs": [
    {
     "name": "stdout",
     "output_type": "stream",
     "text": [
      "SIN PELIGROS\n"
     ]
    }
   ],
   "source": [
    "vel=10\n",
    "size=10\n",
    "if vel > 25 and size > 25:\n",
    "    print('ALERTA-- PELIGRO DE ASTEROIDE')\n",
    "elif vel >= 20:\n",
    "    print('Se podra apreciar un rayo de luz en el cielo')\n",
    "elif size < 25:\n",
    "    print('SIN PELIGROS')\n",
    "else:\n",
    "    print('SIN PELIGROS')"
   ]
  }
 ],
 "metadata": {
  "interpreter": {
   "hash": "d5767a6f2241de01cec10b5f89e84277b52dbdd3eff471e450a83640df2db889"
  },
  "kernelspec": {
   "display_name": "Python 3.9.6 64-bit",
   "language": "python",
   "name": "python3"
  },
  "language_info": {
   "codemirror_mode": {
    "name": "ipython",
    "version": 3
   },
   "file_extension": ".py",
   "mimetype": "text/x-python",
   "name": "python",
   "nbconvert_exporter": "python",
   "pygments_lexer": "ipython3",
   "version": "3.9.6"
  },
  "orig_nbformat": 4
 },
 "nbformat": 4,
 "nbformat_minor": 2
}
