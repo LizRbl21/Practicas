{
 "cells": [
  {
   "cell_type": "markdown",
   "metadata": {},
   "source": [
    "# Ejercicio1 - Utilizar operadores aritméticos\n",
    "# Crear variables para almacenar las dos distancias"
   ]
  },
  {
   "cell_type": "code",
   "execution_count": 18,
   "metadata": {},
   "outputs": [],
   "source": [
    "from math import ceil\n",
    "\n",
    "dis_t= 149597870\n",
    "dis_j= 778547200"
   ]
  },
  {
   "cell_type": "markdown",
   "metadata": {},
   "source": [
    "# Calcular la distancia entre planetas"
   ]
  },
  {
   "cell_type": "code",
   "execution_count": 19,
   "metadata": {},
   "outputs": [
    {
     "name": "stdout",
     "output_type": "stream",
     "text": [
      "Distancia entre Jupiter y la Tierra es 628949330 km\n",
      "Distancia entre Jupiter y la Tierra es 390577534 mi\n"
     ]
    }
   ],
   "source": [
    "distancia_km = dis_j - dis_t\n",
    "print(f\"Distancia entre Jupiter y la Tierra es {distancia_km} km\")\n",
    "\n",
    "distancia_mi = ceil(distancia_km*0.621)\n",
    "print(f\"Distancia entre Jupiter y la Tierra es {distancia_mi} mi\")"
   ]
  },
  {
   "cell_type": "markdown",
   "metadata": {},
   "source": [
    "# Ejercicio 2: convierte cadenas en números y usa valores absolutos"
   ]
  },
  {
   "cell_type": "markdown",
   "metadata": {},
   "source": [
    "# Almacenar las entradas del usuario"
   ]
  },
  {
   "cell_type": "code",
   "execution_count": 20,
   "metadata": {},
   "outputs": [],
   "source": [
    "val1 = input(\"1- Digite una distancia: \")\n",
    "val2 = input(\"2- Digite una distancia: \")"
   ]
  },
  {
   "cell_type": "markdown",
   "metadata": {},
   "source": [
    "# Convierte las cadenas de ambos planetas a números enteros"
   ]
  },
  {
   "cell_type": "code",
   "execution_count": 21,
   "metadata": {},
   "outputs": [],
   "source": [
    "planeta1=int(val1)\n",
    "planeta2=int(val2)"
   ]
  },
  {
   "cell_type": "markdown",
   "metadata": {},
   "source": [
    "# Realizar el cálculo y determinar el valor absoluto"
   ]
  },
  {
   "cell_type": "code",
   "execution_count": 22,
   "metadata": {},
   "outputs": [
    {
     "name": "stdout",
     "output_type": "stream",
     "text": [
      "La distancia es de 5 km\n"
     ]
    }
   ],
   "source": [
    "dist_km=planeta2-planeta1\n",
    "print(f\"La distancia es de {dist_km} km\")"
   ]
  },
  {
   "cell_type": "markdown",
   "metadata": {},
   "source": [
    "# Convertir de KM a Millas"
   ]
  },
  {
   "cell_type": "code",
   "execution_count": 23,
   "metadata": {},
   "outputs": [
    {
     "name": "stdout",
     "output_type": "stream",
     "text": [
      "La distancia es de 4 mi\n"
     ]
    }
   ],
   "source": [
    "dist_mi=ceil(abs(dist_km*0.621))\n",
    "print(f\"La distancia es de {dist_mi} mi\")"
   ]
  }
 ],
 "metadata": {
  "interpreter": {
   "hash": "d5767a6f2241de01cec10b5f89e84277b52dbdd3eff471e450a83640df2db889"
  },
  "kernelspec": {
   "display_name": "Python 3.9.6 64-bit",
   "language": "python",
   "name": "python3"
  },
  "language_info": {
   "codemirror_mode": {
    "name": "ipython",
    "version": 3
   },
   "file_extension": ".py",
   "mimetype": "text/x-python",
   "name": "python",
   "nbconvert_exporter": "python",
   "pygments_lexer": "ipython3",
   "version": "3.9.6"
  },
  "orig_nbformat": 4
 },
 "nbformat": 4,
 "nbformat_minor": 2
}
